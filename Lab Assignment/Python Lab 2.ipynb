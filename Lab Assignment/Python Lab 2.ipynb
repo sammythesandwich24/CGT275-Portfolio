{
 "cells": [
  {
   "cell_type": "markdown",
   "source": [
    "# CGT 290 Week3- LAB\n",
    "## Python Tutorial: List, Tuple, and Dictionary\n",
    "\n",
    "### Feb 3, 2021\n",
    "Tejasvi Harshwal"
   ],
   "metadata": {}
  },
  {
   "cell_type": "markdown",
   "source": [
    "# List\n",
    "A list is a kind of collection.\n",
    "A collection allows us to put many values in a single “variable”.\\\n",
    "List constraints are surrounded by square brackets and the elements in the list are separated by commas.\\\n",
    "A list can be empty too!"
   ],
   "metadata": {
    "colab_type": "text",
    "id": "XSKHpN-u5EW5"
   }
  },
  {
   "cell_type": "code",
   "execution_count": 1,
   "source": [
    "c = ['apple', 'ball', 'cat', 'dog', 'horse']\r\n",
    "print(c)"
   ],
   "outputs": [
    {
     "output_type": "stream",
     "name": "stdout",
     "text": [
      "['apple', 'ball', 'cat', 'dog', 'horse']\n"
     ]
    }
   ],
   "metadata": {
    "colab": {},
    "colab_type": "code",
    "id": "uuMqnRCg4rwj"
   }
  },
  {
   "cell_type": "code",
   "execution_count": 2,
   "source": [
    "scores= [30,40,20]\r\n",
    "print(scores)"
   ],
   "outputs": [
    {
     "output_type": "stream",
     "name": "stdout",
     "text": [
      "[30, 40, 20]\n"
     ]
    }
   ],
   "metadata": {}
  },
  {
   "cell_type": "code",
   "execution_count": 3,
   "source": [
    "print(['man', 10, \"hellooooooo\"])"
   ],
   "outputs": [
    {
     "output_type": "stream",
     "name": "stdout",
     "text": [
      "['man', 10, 'hellooooooo']\n"
     ]
    }
   ],
   "metadata": {}
  },
  {
   "cell_type": "markdown",
   "source": [
    "## Assessing Elements\n",
    "We can get at any single element in a list using an index specified in square brackets.\\\n",
    "Index starts from 0.\\\n",
    "Index must be integer."
   ],
   "metadata": {}
  },
  {
   "cell_type": "code",
   "execution_count": 4,
   "source": [
    "x= [1,2,3,4,5]\r\n",
    "print(x[0])\r\n",
    "print(x[3]) "
   ],
   "outputs": [
    {
     "output_type": "stream",
     "name": "stdout",
     "text": [
      "1\n",
      "4\n"
     ]
    }
   ],
   "metadata": {}
  },
  {
   "cell_type": "markdown",
   "source": [
    "If the index is negative value, it counts backward from the end of the list.\n"
   ],
   "metadata": {}
  },
  {
   "cell_type": "code",
   "execution_count": 6,
   "source": [
    "x= [1,2,3,4,5]\r\n",
    "print(x[-0])\r\n",
    "print(x[-4])"
   ],
   "outputs": [
    {
     "output_type": "stream",
     "name": "stdout",
     "text": [
      "1\n",
      "2\n"
     ]
    }
   ],
   "metadata": {}
  },
  {
   "cell_type": "markdown",
   "source": [
    "Like many languages, Python has a for-each statement. This allows you to loop over every element in a collection."
   ],
   "metadata": {
    "colab_type": "text",
    "id": "eiL0GfRe5JeQ"
   }
  },
  {
   "cell_type": "code",
   "execution_count": 7,
   "source": [
    "# Iterate over a collection.\r\n",
    "c = ['apple', 'ball', 'cat', 'dog', 'Remus Lupin']\r\n",
    "for s in c:\r\n",
    "    print(s)"
   ],
   "outputs": [
    {
     "output_type": "stream",
     "name": "stdout",
     "text": [
      "apple\n",
      "ball\n",
      "cat\n",
      "dog\n",
      "Remus Lupin\n"
     ]
    }
   ],
   "metadata": {
    "colab": {},
    "colab_type": "code",
    "id": "KGtblYwo5HUx"
   }
  },
  {
   "cell_type": "markdown",
   "source": [
    "A list/array can have multiple objects added to it, such as strings."
   ],
   "metadata": {
    "colab_type": "text",
    "id": "1qnmMLU35TID"
   }
  },
  {
   "cell_type": "code",
   "execution_count": 8,
   "source": [
    "# Manually add items, lists allow duplicates\r\n",
    "c = []\r\n",
    "c.append('a')\r\n",
    "c.append('b')\r\n",
    "c.append('c')\r\n",
    "c.append('hehehehehehhehehehehehehe')\r\n",
    "print(c)"
   ],
   "outputs": [
    {
     "output_type": "stream",
     "name": "stdout",
     "text": [
      "['a', 'b', 'c', 'hehehehehehhehehehehehehe']\n"
     ]
    }
   ],
   "metadata": {
    "colab": {},
    "colab_type": "code",
    "id": "4Lk5zRPM5QXw"
   }
  },
  {
   "cell_type": "markdown",
   "source": [
    "A set can include objects/strings, but without duplication"
   ],
   "metadata": {
    "colab_type": "text",
    "id": "0X2NBimH5Y1p"
   }
  },
  {
   "cell_type": "code",
   "execution_count": 9,
   "source": [
    "c = set()\r\n",
    "c.add('a')\r\n",
    "c.add('b')\r\n",
    "c.add('c')\r\n",
    "c.add('gmtrbw')\r\n",
    "print(c)"
   ],
   "outputs": [
    {
     "output_type": "stream",
     "name": "stdout",
     "text": [
      "{'c', 'b', 'a', 'gmtrbw'}\n"
     ]
    }
   ],
   "metadata": {
    "colab": {},
    "colab_type": "code",
    "id": "kOIjsUpz5U71"
   }
  },
  {
   "cell_type": "markdown",
   "source": [
    "A list can have items inserted or removed. For insert, a index must be specified."
   ],
   "metadata": {
    "colab_type": "text",
    "id": "MQNptrxF5h29"
   }
  },
  {
   "cell_type": "code",
   "execution_count": 11,
   "source": [
    "# Insert\r\n",
    "c = ['a', 'b', 'c']\r\n",
    "c.insert(1, '0')\r\n",
    "print(c)"
   ],
   "outputs": [
    {
     "output_type": "stream",
     "name": "stdout",
     "text": [
      "['a', '0', 'b', 'c']\n"
     ]
    }
   ],
   "metadata": {
    "colab": {},
    "colab_type": "code",
    "id": "Ji6zh5Qh5fAV"
   }
  },
  {
   "cell_type": "code",
   "execution_count": 12,
   "source": [
    "# Remove\r\n",
    "c.remove('b')\r\n",
    "print(c)"
   ],
   "outputs": [
    {
     "output_type": "stream",
     "name": "stdout",
     "text": [
      "['a', '0', 'c']\n"
     ]
    }
   ],
   "metadata": {}
  },
  {
   "cell_type": "code",
   "execution_count": 13,
   "source": [
    "# Remove at index\r\n",
    "del c[2]\r\n",
    "print(c)"
   ],
   "outputs": [
    {
     "output_type": "stream",
     "name": "stdout",
     "text": [
      "['a', '0']\n"
     ]
    }
   ],
   "metadata": {}
  },
  {
   "cell_type": "markdown",
   "source": [
    "The len() function takes a list as a parameter and returns the number of elements in the list."
   ],
   "metadata": {}
  },
  {
   "cell_type": "code",
   "execution_count": 14,
   "source": [
    "numbers_list1= [1,2,3,4]\r\n",
    "numbers_list2= [1, [20,[2,[3],0],30], 40]\r\n",
    "print(len(numbers_list1))\r\n",
    "print(len(numbers_list2))"
   ],
   "outputs": [
    {
     "output_type": "stream",
     "name": "stdout",
     "text": [
      "4\n",
      "3\n"
     ]
    }
   ],
   "metadata": {}
  },
  {
   "cell_type": "markdown",
   "source": [
    "Lists are mutable- we can change an element of a list using index operator."
   ],
   "metadata": {}
  },
  {
   "cell_type": "code",
   "execution_count": 15,
   "source": [
    "x= [1,2,3,4,5]\r\n",
    "x[1]= 99999999\r\n",
    "print(x)"
   ],
   "outputs": [
    {
     "output_type": "stream",
     "name": "stdout",
     "text": [
      "[1, 99999999, 3, 4, 5]\n"
     ]
    }
   ],
   "metadata": {}
  },
  {
   "cell_type": "markdown",
   "source": [
    "A range function \"range(m)\" returns a list of numbers that range 0 to m-1.\n"
   ],
   "metadata": {}
  },
  {
   "cell_type": "code",
   "execution_count": 17,
   "source": [
    "for i in range(70):\r\n",
    "    print(i)"
   ],
   "outputs": [
    {
     "output_type": "stream",
     "name": "stdout",
     "text": [
      "0\n",
      "1\n",
      "2\n",
      "3\n",
      "4\n",
      "5\n",
      "6\n",
      "7\n",
      "8\n",
      "9\n",
      "10\n",
      "11\n",
      "12\n",
      "13\n",
      "14\n",
      "15\n",
      "16\n",
      "17\n",
      "18\n",
      "19\n",
      "20\n",
      "21\n",
      "22\n",
      "23\n",
      "24\n",
      "25\n",
      "26\n",
      "27\n",
      "28\n",
      "29\n",
      "30\n",
      "31\n",
      "32\n",
      "33\n",
      "34\n",
      "35\n",
      "36\n",
      "37\n",
      "38\n",
      "39\n",
      "40\n",
      "41\n",
      "42\n",
      "43\n",
      "44\n",
      "45\n",
      "46\n",
      "47\n",
      "48\n",
      "49\n",
      "50\n",
      "51\n",
      "52\n",
      "53\n",
      "54\n",
      "55\n",
      "56\n",
      "57\n",
      "58\n",
      "59\n",
      "60\n",
      "61\n",
      "62\n",
      "63\n",
      "64\n",
      "65\n",
      "66\n",
      "67\n",
      "68\n",
      "69\n"
     ]
    }
   ],
   "metadata": {}
  },
  {
   "cell_type": "markdown",
   "source": [
    "We can create a new list by adding 2 existing lists together\n"
   ],
   "metadata": {}
  },
  {
   "cell_type": "code",
   "execution_count": 18,
   "source": [
    "a=[1,2]\r\n",
    "b=[3,4]\r\n",
    "c= a + b\r\n",
    "print(c)\r\n",
    "d=[a,b]\r\n",
    "e= c + d\r\n",
    "print(e)"
   ],
   "outputs": [
    {
     "output_type": "stream",
     "name": "stdout",
     "text": [
      "[1, 2, 3, 4]\n",
      "[1, 2, 3, 4, [1, 2], [3, 4]]\n"
     ]
    }
   ],
   "metadata": {}
  },
  {
   "cell_type": "markdown",
   "source": [
    "### Built in functions"
   ],
   "metadata": {}
  },
  {
   "cell_type": "code",
   "execution_count": 19,
   "source": [
    "x= [3,44,13,11,77,15]\r\n",
    "print(len(x))\r\n",
    "print(max(x))\r\n",
    "print(min(x))\r\n",
    "print(sum(x))\r\n",
    "print(sum(x)/len(x))"
   ],
   "outputs": [
    {
     "output_type": "stream",
     "name": "stdout",
     "text": [
      "6\n",
      "77\n",
      "3\n",
      "163\n",
      "27.166666666666668\n"
     ]
    }
   ],
   "metadata": {}
  },
  {
   "cell_type": "code",
   "execution_count": 21,
   "source": [
    "numlist=list()\r\n",
    "while True:\r\n",
    "    num=input('Enter a number:')\r\n",
    "    if num=='done':\r\n",
    "        break\r\n",
    "    value= int(num)\r\n",
    "    numlist.append(value)\r\n",
    "average= sum(numlist)/len(numlist)\r\n",
    "print('Average:', average)"
   ],
   "outputs": [
    {
     "output_type": "stream",
     "name": "stdout",
     "text": [
      "Average: 5.0\n"
     ]
    }
   ],
   "metadata": {}
  },
  {
   "cell_type": "markdown",
   "source": [
    "### Building a list from scratch. \n",
    "We can create an empty list and then add elements using the append method.\n"
   ],
   "metadata": {}
  },
  {
   "cell_type": "code",
   "execution_count": 22,
   "source": [
    "x= list()\r\n",
    "print(x)"
   ],
   "outputs": [
    {
     "output_type": "stream",
     "name": "stdout",
     "text": [
      "[]\n"
     ]
    }
   ],
   "metadata": {}
  },
  {
   "cell_type": "code",
   "execution_count": 23,
   "source": [
    "x.append('pencil')\r\n",
    "x.append(10)\r\n",
    "print(x)"
   ],
   "outputs": [
    {
     "output_type": "stream",
     "name": "stdout",
     "text": [
      "['pencil', 10]\n"
     ]
    }
   ],
   "metadata": {}
  },
  {
   "cell_type": "code",
   "execution_count": 24,
   "source": [
    "x.insert(1, 'red') #x.insert(index position, element)\r\n",
    "print(x)"
   ],
   "outputs": [
    {
     "output_type": "stream",
     "name": "stdout",
     "text": [
      "['pencil', 'red', 10]\n"
     ]
    }
   ],
   "metadata": {}
  },
  {
   "cell_type": "code",
   "execution_count": 25,
   "source": [
    "x.append([4,5])\r\n",
    "print(x)"
   ],
   "outputs": [
    {
     "output_type": "stream",
     "name": "stdout",
     "text": [
      "['pencil', 'red', 10, [4, 5]]\n"
     ]
    }
   ],
   "metadata": {}
  },
  {
   "cell_type": "markdown",
   "source": [
    "A list is an ordered sequence. It can be sorted."
   ],
   "metadata": {}
  },
  {
   "cell_type": "code",
   "execution_count": 26,
   "source": [
    "x=[2,45,6]\r\n",
    "x.sort()\r\n",
    "print(x) #sort by small to large"
   ],
   "outputs": [
    {
     "output_type": "stream",
     "name": "stdout",
     "text": [
      "[2, 6, 45]\n"
     ]
    }
   ],
   "metadata": {}
  },
  {
   "cell_type": "code",
   "execution_count": 28,
   "source": [
    "x= ['blue','2','4','red']\r\n",
    "x.sort()\r\n",
    "print(x) #number has high priority"
   ],
   "outputs": [
    {
     "output_type": "stream",
     "name": "stdout",
     "text": [
      "['2', '4', 'blue', 'red']\n"
     ]
    }
   ],
   "metadata": {}
  },
  {
   "cell_type": "markdown",
   "source": [
    "Use a list enumerate function to track what index location a list element is at."
   ],
   "metadata": {}
  },
  {
   "cell_type": "code",
   "execution_count": 29,
   "source": [
    "a = ['one','two','three','four','five']\r\n",
    "list(enumerate(a))"
   ],
   "outputs": [
    {
     "output_type": "execute_result",
     "data": {
      "text/plain": [
       "[(0, 'one'), (1, 'two'), (2, 'three'), (3, 'four'), (4, 'five')]"
      ]
     },
     "metadata": {},
     "execution_count": 29
    }
   ],
   "metadata": {}
  },
  {
   "cell_type": "markdown",
   "source": [
    "# Tuple\n",
    "A Tuple is similar to a list except it is immutable (the elements of the tuple can not be modified).\n",
    "A Tuple is comma seperated list of values.\n"
   ],
   "metadata": {}
  },
  {
   "cell_type": "code",
   "execution_count": 30,
   "source": [
    "tuple1= 'red', 'blue', 'green'\r\n",
    "tuple2= ('red', 'blue',1)\r\n",
    "print(tuple1, tuple2)"
   ],
   "outputs": [
    {
     "output_type": "stream",
     "name": "stdout",
     "text": [
      "('red', 'blue', 'green') ('red', 'blue', 1)\n"
     ]
    }
   ],
   "metadata": {}
  },
  {
   "cell_type": "code",
   "execution_count": 31,
   "source": [
    "tuple2[3]= 5 #becasue immutable"
   ],
   "outputs": [
    {
     "output_type": "error",
     "ename": "TypeError",
     "evalue": "'tuple' object does not support item assignment",
     "traceback": [
      "\u001b[1;31m---------------------------------------------------------------------------\u001b[0m",
      "\u001b[1;31mTypeError\u001b[0m                                 Traceback (most recent call last)",
      "\u001b[1;32mC:\\Users\\SAMRUD~1\\AppData\\Local\\Temp/ipykernel_13940/4067673436.py\u001b[0m in \u001b[0;36m<module>\u001b[1;34m\u001b[0m\n\u001b[1;32m----> 1\u001b[1;33m \u001b[0mtuple2\u001b[0m\u001b[1;33m[\u001b[0m\u001b[1;36m3\u001b[0m\u001b[1;33m]\u001b[0m\u001b[1;33m=\u001b[0m \u001b[1;36m5\u001b[0m \u001b[1;31m#becasue immutable\u001b[0m\u001b[1;33m\u001b[0m\u001b[1;33m\u001b[0m\u001b[0m\n\u001b[0m",
      "\u001b[1;31mTypeError\u001b[0m: 'tuple' object does not support item assignment"
     ]
    }
   ],
   "metadata": {}
  },
  {
   "cell_type": "markdown",
   "source": [
    "To create a tuple with single element we conclude with a final comma."
   ],
   "metadata": {}
  },
  {
   "cell_type": "code",
   "execution_count": 34,
   "source": [
    "tuple=('red',)\r\n",
    "print(tuple)"
   ],
   "outputs": [
    {
     "output_type": "stream",
     "name": "stdout",
     "text": [
      "('red',)\n"
     ]
    }
   ],
   "metadata": {}
  },
  {
   "cell_type": "markdown",
   "source": [
    "We can not modify the elements of a tuple but we can replace it with another.\n"
   ],
   "metadata": {}
  },
  {
   "cell_type": "code",
   "execution_count": 36,
   "source": [
    "tuple=('red', 'blue', 'green')\r\n",
    "tuplenew= ('blueberry',) + tuple[1:]\r\n",
    "print(tuplenew)"
   ],
   "outputs": [
    {
     "output_type": "stream",
     "name": "stdout",
     "text": [
      "('blueberry', 'blue', 'green')\n"
     ]
    }
   ],
   "metadata": {}
  },
  {
   "cell_type": "markdown",
   "source": [
    "We can not sort or append a tuple because no changes can be made.\n",
    "Since Python does not have to build tuple structures to be modifiable, they are simpler and more efficient in terms of memory use and performance than lists.\\\n",
    "In any program that we make where we need 'temporary variable', we prefer tuples over lists.\n"
   ],
   "metadata": {}
  },
  {
   "cell_type": "markdown",
   "source": [
    "### Random numbers\n",
    "The random module contains a function called 'Random' that returns a floating point number between 0 and 1."
   ],
   "metadata": {}
  },
  {
   "cell_type": "code",
   "execution_count": 37,
   "source": [
    "import random\r\n",
    "x= random.random()\r\n",
    "print(x)"
   ],
   "outputs": [
    {
     "output_type": "stream",
     "name": "stdout",
     "text": [
      "0.33558456185291174\n"
     ]
    }
   ],
   "metadata": {}
  },
  {
   "cell_type": "code",
   "execution_count": 38,
   "source": [
    "import random\r\n",
    "y= random.random()\r\n",
    "print(y)"
   ],
   "outputs": [
    {
     "output_type": "stream",
     "name": "stdout",
     "text": [
      "0.5114861439579986\n"
     ]
    }
   ],
   "metadata": {}
  },
  {
   "cell_type": "markdown",
   "source": [
    "## Dictionary"
   ],
   "metadata": {
    "colab_type": "text",
    "id": "rfqJn4ep5oiW"
   }
  },
  {
   "cell_type": "markdown",
   "source": [
    "Many programming languages include the concept of a map, dictionary, or hash table. These are all very related concepts. This is essentially a collection of name value pairs.\n",
    "\n",
    "Basic data structre for dictionary in Python:\n",
    " -------------------------------------\n",
    "| d = {key1 : value1, key2 : value2 } |\n",
    " -------------------------------------\n",
    " \n",
    " Note:\n",
    " 1. key has to be unique, but value doesn't have to be.\n",
    " 2. value could be any data type, but key must be number, string or tuple"
   ],
   "metadata": {}
  },
  {
   "cell_type": "code",
   "execution_count": 40,
   "source": [
    "d = {'name': \"Sherlock Holmes\", 'address':\"221b Baker Street\", 'age':\"idk actually\"}\r\n",
    "print(d)\r\n",
    "print(d['name'])"
   ],
   "outputs": [
    {
     "output_type": "stream",
     "name": "stdout",
     "text": [
      "{'name': 'Sherlock Holmes', 'address': '221b Baker Street', 'age': 'idk actually'}\n",
      "Sherlock Holmes\n"
     ]
    }
   ],
   "metadata": {
    "colab": {},
    "colab_type": "code",
    "id": "PPTNnpsw5jpA"
   }
  },
  {
   "cell_type": "code",
   "execution_count": 41,
   "source": [
    "if 'name' in d:\r\n",
    "    print(\"Name is defined\")\r\n",
    "\r\n",
    "if 'age' in d:\r\n",
    "    print(\"age defined\")\r\n",
    "else:\r\n",
    "    print(\"age undefined\")"
   ],
   "outputs": [
    {
     "output_type": "stream",
     "name": "stdout",
     "text": [
      "Name is defined\n",
      "age defined\n"
     ]
    }
   ],
   "metadata": {}
  },
  {
   "cell_type": "markdown",
   "source": [
    "\n",
    "You can also access the individual keys and values of a dictionary.\\\n",
    "Dictionaries are immutable."
   ],
   "metadata": {
    "colab_type": "text",
    "id": "FfcbLYj65tQf"
   }
  },
  {
   "cell_type": "code",
   "execution_count": 42,
   "source": [
    "student = {} #defining dictionary\r\n",
    "student['name']= 'David'\r\n",
    "student['major']= 'Math'\r\n",
    "student['school']= 'IU'\r\n",
    "print(student)"
   ],
   "outputs": [
    {
     "output_type": "stream",
     "name": "stdout",
     "text": [
      "{'name': 'David', 'major': 'Math', 'school': 'IU'}\n"
     ]
    }
   ],
   "metadata": {}
  },
  {
   "cell_type": "markdown",
   "source": [
    "Dictionaries are like bags- no order."
   ],
   "metadata": {}
  },
  {
   "cell_type": "code",
   "execution_count": 43,
   "source": [
    "bag= {}\r\n",
    "bag['money']= [0]\r\n",
    "bag['chocolate']=5\r\n",
    "bag['pen']= 2\r\n",
    "print(bag)\r\n",
    "bag['money']"
   ],
   "outputs": [
    {
     "output_type": "stream",
     "name": "stdout",
     "text": [
      "{'money': [0], 'chocolate': 5, 'pen': 2}\n"
     ]
    },
    {
     "output_type": "execute_result",
     "data": {
      "text/plain": [
       "[0]"
      ]
     },
     "metadata": {},
     "execution_count": 43
    }
   ],
   "metadata": {}
  },
  {
   "cell_type": "code",
   "execution_count": 44,
   "source": [
    "bag['money'][0]"
   ],
   "outputs": [
    {
     "output_type": "execute_result",
     "data": {
      "text/plain": [
       "0"
      ]
     },
     "metadata": {},
     "execution_count": 44
    }
   ],
   "metadata": {}
  },
  {
   "cell_type": "markdown",
   "source": [
    "dictionaryname.keys() returns a list of the keys.\\\n",
    "dictionaryname.values() retuns a list of values."
   ],
   "metadata": {}
  },
  {
   "cell_type": "code",
   "execution_count": 45,
   "source": [
    "d = {'name': \"Jeff\", 'address':\"123 Main\"}\r\n",
    "# All of the keys\r\n",
    "print(d.keys())\r\n",
    "\r\n",
    "# All of the values\r\n",
    "print(d.values())"
   ],
   "outputs": [
    {
     "output_type": "stream",
     "name": "stdout",
     "text": [
      "dict_keys(['name', 'address'])\n",
      "dict_values(['Jeff', '123 Main'])\n"
     ]
    }
   ],
   "metadata": {
    "colab": {},
    "colab_type": "code",
    "id": "zAycpl7T5qSm"
   }
  },
  {
   "cell_type": "code",
   "execution_count": 46,
   "source": [
    "mydictionary={'age':2000,'score':90}\r\n",
    "mydictionary.keys()"
   ],
   "outputs": [
    {
     "output_type": "execute_result",
     "data": {
      "text/plain": [
       "dict_keys(['age', 'score'])"
      ]
     },
     "metadata": {},
     "execution_count": 46
    }
   ],
   "metadata": {}
  },
  {
   "cell_type": "code",
   "execution_count": 47,
   "source": [
    "mydictionary.values()"
   ],
   "outputs": [
    {
     "output_type": "execute_result",
     "data": {
      "text/plain": [
       "dict_values([2000, 90])"
      ]
     },
     "metadata": {},
     "execution_count": 47
    }
   ],
   "metadata": {}
  }
 ],
 "metadata": {
  "colab": {
   "collapsed_sections": [],
   "name": "Python Introduction.ipynb",
   "private_outputs": true,
   "provenance": [],
   "toc_visible": true
  },
  "kernelspec": {
   "name": "python3",
   "display_name": "Python 3.9.7 64-bit ('base': conda)"
  },
  "language_info": {
   "codemirror_mode": {
    "name": "ipython",
    "version": 3
   },
   "file_extension": ".py",
   "mimetype": "text/x-python",
   "name": "python",
   "nbconvert_exporter": "python",
   "pygments_lexer": "ipython3",
   "version": "3.9.7"
  },
  "interpreter": {
   "hash": "c8a4d737cbab739207b185428722dd67a28fa4f10945123198560a29cec2ff3c"
  }
 },
 "nbformat": 4,
 "nbformat_minor": 1
}